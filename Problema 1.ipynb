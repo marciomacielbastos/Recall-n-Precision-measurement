{
 "metadata": {
  "name": ""
 },
 "nbformat": 3,
 "nbformat_minor": 0,
 "worksheets": [
  {
   "cells": [
    {
     "cell_type": "heading",
     "level": 1,
     "metadata": {},
     "source": [
      "Tarefa(1/1) de Recupera\u00e7\u00e3o da informa\u00e7\u00e3o. "
     ]
    },
    {
     "cell_type": "heading",
     "level": 2,
     "metadata": {},
     "source": [
      "Aluno: Marcio Maciel Bastos"
     ]
    },
    {
     "cell_type": "markdown",
     "metadata": {},
     "source": [
      "Primeiro importamos os pacotes para a realiza\u00e7\u00e3o da nossa tarefa"
     ]
    },
    {
     "cell_type": "code",
     "collapsed": false,
     "input": [
      "import nltk\n",
      "import numpy as np\n",
      "import matplotlib.pyplot as plt\n",
      "import matplotlib.mlab as mlab\n",
      "from nltk.corpus import machado\n",
      "from nltk.tokenize import WordPunctTokenizer\n",
      "from nltk.corpus import stopwords\n",
      "import string\n",
      "from collections import defaultdict\n",
      "from nltk.stem.snowball import PortugueseStemmer\n",
      "from nltk.stem import RSLPStemmer\n",
      "import math\n",
      "%matplotlib inline"
     ],
     "language": "python",
     "metadata": {},
     "outputs": [],
     "prompt_number": 1
    },
    {
     "cell_type": "markdown",
     "metadata": {},
     "source": [
      "Baixamos o nosso \"set\" de \"stopwords\""
     ]
    },
    {
     "cell_type": "code",
     "collapsed": false,
     "input": [
      "nltk.download('stopwords')"
     ],
     "language": "python",
     "metadata": {},
     "outputs": [
      {
       "output_type": "stream",
       "stream": "stdout",
       "text": [
        "[nltk_data] Downloading package stopwords to /home/marcio/nltk_data...\n",
        "[nltk_data]   Package stopwords is already up-to-date!\n"
       ]
      },
      {
       "metadata": {},
       "output_type": "pyout",
       "prompt_number": 2,
       "text": [
        "True"
       ]
      }
     ],
     "prompt_number": 2
    },
    {
     "cell_type": "heading",
     "level": 4,
     "metadata": {},
     "source": [
      "Corpora a ser indexados: Obras completas de Machado de assis"
     ]
    },
    {
     "cell_type": "code",
     "collapsed": false,
     "input": [
      "textos = [machado.raw(id) for id in machado.fileids()]"
     ],
     "language": "python",
     "metadata": {},
     "outputs": [],
     "prompt_number": 3
    },
    {
     "cell_type": "markdown",
     "metadata": {},
     "source": [
      "Carregando as stopwords"
     ]
    },
    {
     "cell_type": "code",
     "collapsed": false,
     "input": [
      "sw = stopwords.words('portuguese') + list (string.punctuation)"
     ],
     "language": "python",
     "metadata": {},
     "outputs": [],
     "prompt_number": 4
    },
    {
     "cell_type": "heading",
     "level": 4,
     "metadata": {},
     "source": [
      "Stemmers a serem comparados: - Snowball - RSLP"
     ]
    },
    {
     "cell_type": "markdown",
     "metadata": {},
     "source": [
      "stemmer= Snowball e st=RSLP"
     ]
    },
    {
     "cell_type": "code",
     "collapsed": false,
     "input": [
      "stemmer = PortugueseStemmer()\n",
      "st = RSLPStemmer()"
     ],
     "language": "python",
     "metadata": {},
     "outputs": [],
     "prompt_number": 5
    },
    {
     "cell_type": "heading",
     "level": 3,
     "metadata": {},
     "source": [
      "Preparando os textos"
     ]
    },
    {
     "cell_type": "code",
     "collapsed": false,
     "input": [
      "def normalize(pstemmer):\n",
      "    textos_limpos = []\n",
      "    if pstemmer==None:\n",
      "        for texto in textos:\n",
      "            tlimpo = [token.lower() for token in WordPunctTokenizer().tokenize(texto) if token not in sw]\n",
      "            textos_limpos.append(tlimpo)\n",
      "    else:\n",
      "        for texto in textos:\n",
      "            tlimpo = [pstemmer.stem(token.lower()) for token in WordPunctTokenizer().tokenize(texto) if token not in sw]\n",
      "            textos_limpos.append(tlimpo)\n",
      "    return textos_limpos"
     ],
     "language": "python",
     "metadata": {},
     "outputs": [],
     "prompt_number": 9
    },
    {
     "cell_type": "heading",
     "level": 4,
     "metadata": {},
     "source": [
      "Normalizando os textos com o Snowball"
     ]
    },
    {
     "cell_type": "code",
     "collapsed": false,
     "input": [
      "textos_limposS = normalize(stemmer)"
     ],
     "language": "python",
     "metadata": {},
     "outputs": [],
     "prompt_number": 10
    },
    {
     "cell_type": "heading",
     "level": 4,
     "metadata": {},
     "source": [
      "Normalizando os textos com o RSLPS"
     ]
    },
    {
     "cell_type": "code",
     "collapsed": false,
     "input": [
      "textos_limposR = normalize(st)"
     ],
     "language": "python",
     "metadata": {},
     "outputs": [],
     "prompt_number": 12
    },
    {
     "cell_type": "heading",
     "level": 4,
     "metadata": {},
     "source": [
      "Normalizando os textos sem stemmers"
     ]
    },
    {
     "cell_type": "markdown",
     "metadata": {},
     "source": [
      "Esse procedimento \u00e9 importante para a cria\u00e7\u00e3o do nosso conjunto de documentos relevantes R"
     ]
    },
    {
     "cell_type": "code",
     "collapsed": false,
     "input": [
      "textos_cru = normalize(None)"
     ],
     "language": "python",
     "metadata": {},
     "outputs": [],
     "prompt_number": 13
    },
    {
     "cell_type": "heading",
     "level": 3,
     "metadata": {},
     "source": [
      "Cria\u00e7\u00e3o dos \u00edndices invertidos"
     ]
    },
    {
     "cell_type": "code",
     "collapsed": false,
     "input": [
      "def indexFactory(txt):\n",
      "    index = defaultdict(lambda:set([]))\n",
      "    for tid,t in enumerate(txt):\n",
      "        for term in t:\n",
      "            index[term].add(tid)\n",
      "    return index"
     ],
     "language": "python",
     "metadata": {},
     "outputs": [],
     "prompt_number": 14
    },
    {
     "cell_type": "heading",
     "level": 4,
     "metadata": {},
     "source": [
      "\u00cdndice para o dicion\u00e1rio usando Snowball"
     ]
    },
    {
     "cell_type": "code",
     "collapsed": false,
     "input": [
      "snowIndex = indexFactory(textos_limposS)"
     ],
     "language": "python",
     "metadata": {},
     "outputs": [],
     "prompt_number": 15
    },
    {
     "cell_type": "heading",
     "level": 4,
     "metadata": {},
     "source": [
      "\u00cdndice para o dicion\u00e1rio usando RSPL"
     ]
    },
    {
     "cell_type": "code",
     "collapsed": false,
     "input": [
      "rslpIndex = indexFactory(textos_limposR)"
     ],
     "language": "python",
     "metadata": {},
     "outputs": [],
     "prompt_number": 16
    },
    {
     "cell_type": "heading",
     "level": 4,
     "metadata": {},
     "source": [
      "\u00cdndice com texto n\u00e3o \"stemezado\""
     ]
    },
    {
     "cell_type": "code",
     "collapsed": false,
     "input": [
      "refIndex = indexFactory(textos_cru)"
     ],
     "language": "python",
     "metadata": {},
     "outputs": [],
     "prompt_number": 17
    },
    {
     "cell_type": "heading",
     "level": 3,
     "metadata": {},
     "source": [
      "Fun\u00e7\u00e3o de busca"
     ]
    },
    {
     "cell_type": "code",
     "collapsed": false,
     "input": [
      "def search(consulta,pstemmer):\n",
      "    if pstemmer==stemmer:\n",
      "        return snowIndex[stemmer.stem(consulta)]\n",
      "    elif pstemmer==st:\n",
      "        return rslpIndex[st.stem(consulta)]\n",
      "    elif pstemmer==None:\n",
      "        return refIndex[consulta]"
     ],
     "language": "python",
     "metadata": {},
     "outputs": [],
     "prompt_number": 28
    },
    {
     "cell_type": "code",
     "collapsed": false,
     "input": [
      "print stemmer.stem(u'descrer')\n",
      "print st.stem(u'descrer')"
     ],
     "language": "python",
     "metadata": {},
     "outputs": [
      {
       "output_type": "stream",
       "stream": "stdout",
       "text": [
        "descr\n",
        "descr\n"
       ]
      }
     ],
     "prompt_number": 135
    },
    {
     "cell_type": "heading",
     "level": 3,
     "metadata": {},
     "source": [
      "Agora iremos calcular o recall, que \u00e9 definido por |R\u1d12A|/|R| e a precis\u00e3o, que \u00e9 definido por |R\u1d12A|/|A|"
     ]
    },
    {
     "cell_type": "code",
     "collapsed": false,
     "input": [
      "def benchCalc(pstemmer, refStemmer):\n",
      "    recall = np.empty(0)\n",
      "    precision = np.empty(0)\n",
      "    for txt in refIndex.keys():\n",
      "        listStemmer = search(txt,pstemmer)\n",
      "        listRef = search(txt,refStemmer)\n",
      "        Intrsct = float(len(listRef.intersection(listStemmer)))\n",
      "        recall = np.append(recall,Intrsct/len(listRef))\n",
      "        precision = np.append(precision,Intrsct/len(listStemmer))\n",
      "    return recall, precision"
     ],
     "language": "python",
     "metadata": {},
     "outputs": [],
     "prompt_number": 36
    },
    {
     "cell_type": "code",
     "collapsed": false,
     "input": [
      "rSnow, pSnow = benchCalc(stemmer,None)"
     ],
     "language": "python",
     "metadata": {},
     "outputs": [],
     "prompt_number": 38
    },
    {
     "cell_type": "code",
     "collapsed": false,
     "input": [
      "rRSLP, pRSLP = benchCalc(st,None)"
     ],
     "language": "python",
     "metadata": {},
     "outputs": [],
     "prompt_number": 39
    },
    {
     "cell_type": "heading",
     "level": 3,
     "metadata": {},
     "source": [
      "Gr\u00e1ficos dos valores de Recall para cada termo normalizado"
     ]
    },
    {
     "cell_type": "markdown",
     "metadata": {},
     "source": [
      "Boxplot Snowball:"
     ]
    },
    {
     "cell_type": "code",
     "collapsed": false,
     "input": [
      "plt.boxplot(rSnow)\n",
      "plt.show()"
     ],
     "language": "python",
     "metadata": {},
     "outputs": [
      {
       "metadata": {},
       "output_type": "display_data",
       "png": "[encoded data removed]",
       "text": [
        "<matplotlib.figure.Figure at 0x7f1a56a4a990>"
       ]
      }
     ],
     "prompt_number": 40
    },
    {
     "cell_type": "markdown",
     "metadata": {},
     "source": [
      "Valores de m\u00e9dia e vari\u00e2ncia do Snowball"
     ]
    },
    {
     "cell_type": "markdown",
     "metadata": {},
     "source": [
      "Distribui\u00e7\u00e3o normal n\u00e3o se aplica"
     ]
    },
    {
     "cell_type": "code",
     "collapsed": false,
     "input": [
      "print 'M\u00e9dia', rSnow.mean()\n",
      "print 'Vari\u00e2ncia', rSnow.var()"
     ],
     "language": "python",
     "metadata": {},
     "outputs": [
      {
       "output_type": "stream",
       "stream": "stdout",
       "text": [
        "M\u00e9dia 1.0\n",
        "Vari\u00e2ncia 0.0\n"
       ]
      }
     ],
     "prompt_number": 59
    },
    {
     "cell_type": "markdown",
     "metadata": {},
     "source": [
      "Boxplot RSLP:"
     ]
    },
    {
     "cell_type": "code",
     "collapsed": false,
     "input": [
      "plt.boxplot(rRSLP)\n",
      "plt.show()"
     ],
     "language": "python",
     "metadata": {},
     "outputs": [
      {
       "metadata": {},
       "output_type": "display_data",
       "png": "[encoded data removed]",
       "text": [
        "<matplotlib.figure.Figure at 0x7f1a57ac5a50>"
       ]
      }
     ],
     "prompt_number": 60
    },
    {
     "cell_type": "markdown",
     "metadata": {},
     "source": [
      "Valores de m\u00e9dia e vari\u00e2ncia do RSLP"
     ]
    },
    {
     "cell_type": "markdown",
     "metadata": {},
     "source": [
      "Distribui\u00e7\u00e3o normal n\u00e3o se aplica"
     ]
    },
    {
     "cell_type": "code",
     "collapsed": false,
     "input": [
      "print 'M\u00e9dia', rRSLP.mean()\n",
      "print 'Vari\u00e2ncia', rRSLP.var()"
     ],
     "language": "python",
     "metadata": {},
     "outputs": [
      {
       "output_type": "stream",
       "stream": "stdout",
       "text": [
        "M\u00e9dia 1.0\n",
        "Vari\u00e2ncia 0.0\n"
       ]
      }
     ],
     "prompt_number": 63
    },
    {
     "cell_type": "markdown",
     "metadata": {},
     "source": [
      "Como j\u00e1 era esperado, o Recall dos dois deu igual a 1 para esse primeiro teste, pois se aquele termo existe, sua raiz (independente do stemmer utilizado) tamb\u00e9m estar\u00e1 presente. Portanto esse teste n\u00e3o foi conclusivo."
     ]
    },
    {
     "cell_type": "heading",
     "level": 3,
     "metadata": {},
     "source": [
      "M\u00e9dias dos valores de Precis\u00e3o para cada termo normalizado"
     ]
    },
    {
     "cell_type": "code",
     "collapsed": false,
     "input": [
      "f, (ax1, ax2) = plt.subplots(1, 2, sharey=True)\n",
      "ax1.boxplot(pSnow)\n",
      "ax1.set_title('Boxplot Snowball')\n",
      "ax2.boxplot(pRSLP)\n",
      "ax2.set_title('Boxplot RSLP')\n",
      "plt.show()\n",
      "print \"M\u00e9dia da precis\u00e3o do Snowball: \"+str(pSnow.mean())\n",
      "print \"M\u00e9dia da precis\u00e3o do RSLP: \"+str(pRSLP.mean())"
     ],
     "language": "python",
     "metadata": {},
     "outputs": [
      {
       "metadata": {},
       "output_type": "display_data",
       "png": "[encoded data removed]",
       "text": [
        "<matplotlib.figure.Figure at 0x7f1a58dac9d0>"
       ]
      },
      {
       "output_type": "stream",
       "stream": "stdout",
       "text": [
        "M\u00e9dia da precis\u00e3o do Snowball: 0.437376542475\n",
        "M\u00e9dia da precis\u00e3o do RSLP: 0.390161495039\n"
       ]
      }
     ],
     "prompt_number": 103
    },
    {
     "cell_type": "code",
     "collapsed": false,
     "input": [
      "x = np.linspace(-3,3,100)\n",
      "mean = pSnow.mean()\n",
      "variance = pSnow.var()\n",
      "sigma = math.sqrt(variance)\n",
      "plt.plot(x,mlab.normpdf(x,mean,sigma),'b',label='Snowball')\n",
      "mean1 = pRSLP.mean()\n",
      "variance1 = pRSLP.var()\n",
      "sigma1 = math.sqrt(variance)\n",
      "plt.plot(x,mlab.normpdf(x,mean1,sigma1),'r',label='RSLP')\n",
      "plt.legend()\n",
      "plt.show()"
     ],
     "language": "python",
     "metadata": {},
     "outputs": [
      {
       "metadata": {},
       "output_type": "display_data",
       "png": "[encoded data removed]",
       "text": [
        "<matplotlib.figure.Figure at 0x7f1a57bdbf10>"
       ]
      }
     ],
     "prompt_number": 119
    },
    {
     "cell_type": "code",
     "collapsed": false,
     "input": [
      "f, (ax1, ax2) = plt.subplots(1, 2, sharey=True)\n",
      "ax1.hist(pSnow, 50, normed=1, facecolor='b', alpha=0.75)\n",
      "ax1.set_title('Histograma Snowball')\n",
      "ax1.grid(True)\n",
      "ax2.hist(pRSLP, 50, normed=1, facecolor='r', alpha=0.75)\n",
      "ax2.set_title('Histograma RSLP')\n",
      "ax2.grid(True)\n",
      "plt.show()"
     ],
     "language": "python",
     "metadata": {},
     "outputs": [
      {
       "metadata": {},
       "output_type": "display_data",
       "png": "[encoded data removed]",
       "text": [
        "<matplotlib.figure.Figure at 0x7f1a5d42a750>"
       ]
      }
     ],
     "prompt_number": 108
    },
    {
     "cell_type": "markdown",
     "metadata": {},
     "source": [
      "Os resultados para a precis\u00e3o foram mais conclusivos, nos mostraram que a \n",
      "precis\u00e3o do RSLP \u00e9 inferior, provavelmente porque a sua stemiza\u00e7\u00e3o \u00e9 mais\n",
      "agressiva, obtendo um conjunto answer maior que o do Snowball"
     ]
    },
    {
     "cell_type": "heading",
     "level": 3,
     "metadata": {},
     "source": [
      "Realizemos agora uma compara\u00e7\u00e3o relativa, fixando um dos stemmers como o gerador de fontes relevantes"
     ]
    },
    {
     "cell_type": "markdown",
     "metadata": {},
     "source": [
      "Primeiro vamos considerar o RSLP como nossa fonte de documentos relevantes"
     ]
    },
    {
     "cell_type": "code",
     "collapsed": false,
     "input": [
      "rSnow, pSnow = benchCalc(stemmer,st)"
     ],
     "language": "python",
     "metadata": {},
     "outputs": [],
     "prompt_number": 109
    },
    {
     "cell_type": "code",
     "collapsed": false,
     "input": [
      "f, (ax1, ax2) = plt.subplots(1, 2, sharey=True)\n",
      "ax1.boxplot(rSnow)\n",
      "ax1.set_title('Boxplot recall')\n",
      "ax2.boxplot(pSnow)\n",
      "ax2.set_title(u'Boxplot precis\u00e3o')\n",
      "plt.show()"
     ],
     "language": "python",
     "metadata": {},
     "outputs": [
      {
       "metadata": {},
       "output_type": "display_data",
       "png": "[encoded data removed]",
       "text": [
        "<matplotlib.figure.Figure at 0x7f1a58fe1dd0>"
       ]
      }
     ],
     "prompt_number": 126
    },
    {
     "cell_type": "code",
     "collapsed": false,
     "input": [
      "print \"M\u00e9dia da recall do Snowball: \"+str(rSnow.mean())\n",
      "print \"M\u00e9dia da precis\u00e3o do Snowball: \"+str(pSnow.mean())\n",
      "print \"Maior valor do recall do Snowball: \"+str(rSnow.max())\n",
      "print \"Menor valor do recall do Snowball: \"+str(rSnow.min())\n",
      "print \"Maior valor da precis\u00e3o do Snowball: \"+str(pSnow.max())\n",
      "print \"Menor valor da precis\u00e3o do Snowball: \"+str(pSnow.min())"
     ],
     "language": "python",
     "metadata": {},
     "outputs": [
      {
       "output_type": "stream",
       "stream": "stdout",
       "text": [
        "M\u00e9dia da recall do Snowball: 0.888090159051\n",
        "M\u00e9dia da precis\u00e3o do Snowball: 0.949400363448\n",
        "Maior valor do recall do Snowball: 1.0\n",
        "Menor valor do recall do Snowball: 0.00409836065574\n",
        "Maior valor da precis\u00e3o do Snowball: 1.0\n",
        "Menor valor da precis\u00e3o do Snowball: 0.00438596491228\n"
       ]
      }
     ],
     "prompt_number": 125
    },
    {
     "cell_type": "markdown",
     "metadata": {},
     "source": [
      "Vamos realizar o mesmo procedimento agora com o Snowball como refer\u00eancia. Veja que essa fase n\u00e3o \u00e9 estritamente necess\u00e1ria, pois esses dados geram dados que poderiam ser deduzidos dos valores acima."
     ]
    },
    {
     "cell_type": "code",
     "collapsed": false,
     "input": [
      "rRSLP, pRSLP = benchCalc(st,stemmer)"
     ],
     "language": "python",
     "metadata": {},
     "outputs": [],
     "prompt_number": 132
    },
    {
     "cell_type": "code",
     "collapsed": false,
     "input": [
      "f, (ax1, ax2) = plt.subplots(1, 2, sharey=True)\n",
      "ax1.boxplot(rRSLP)\n",
      "ax1.set_title('Boxplot recall')\n",
      "ax2.boxplot(pRSLP)\n",
      "ax2.set_title(u'Boxplot precis\u00e3o')\n",
      "plt.show()"
     ],
     "language": "python",
     "metadata": {},
     "outputs": [
      {
       "metadata": {},
       "output_type": "display_data",
       "png": "[encoded data removed]",
       "text": [
        "<matplotlib.figure.Figure at 0x7f1a5970d950>"
       ]
      }
     ],
     "prompt_number": 133
    },
    {
     "cell_type": "code",
     "collapsed": false,
     "input": [
      "print \"M\u00e9dia da recall do Snowball: \"+str(rRSLP.mean())\n",
      "print \"M\u00e9dia da precis\u00e3o do Snowball: \"+str(pRSLP.mean())\n",
      "print \"Maior valor do recall do Snowball: \"+str(rRSLP.max())\n",
      "print \"Menor valor do recall do Snowball: \"+str(rRSLP.min())\n",
      "print \"Maior valor da precis\u00e3o do Snowball: \"+str(pRSLP.max())\n",
      "print \"Menor valor da precis\u00e3o do Snowball: \"+str(pSnow.min())"
     ],
     "language": "python",
     "metadata": {},
     "outputs": [
      {
       "output_type": "stream",
       "stream": "stdout",
       "text": [
        "M\u00e9dia da recall do Snowball: 0.949400363448\n",
        "M\u00e9dia da precis\u00e3o do Snowball: 0.888090159051\n",
        "Maior valor do recall do Snowball: 1.0\n",
        "Menor valor do recall do Snowball: 0.00438596491228\n",
        "Maior valor da precis\u00e3o do Snowball: 1.0\n",
        "Menor valor da precis\u00e3o do Snowball: 0.00409836065574\n"
       ]
      }
     ],
     "prompt_number": 134
    },
    {
     "cell_type": "heading",
     "level": 3,
     "metadata": {},
     "source": [
      "Conclus\u00e3o"
     ]
    },
    {
     "cell_type": "markdown",
     "metadata": {},
     "source": [
      "Os resultados obtidos nos levam a verificar que o Stemmer Snowball \u00e9 mais preciso que o Stemmer RSLP, no entanto o recall do Stemmer RSLP \u00e9 maior. Al\u00e9m disso, pudemos verificar que quando desejamos maior precis\u00e3o temos de abrir m\u00e3o do recall e vice-versa."
     ]
    }
   ],
   "metadata": {}
  }
 ]
}