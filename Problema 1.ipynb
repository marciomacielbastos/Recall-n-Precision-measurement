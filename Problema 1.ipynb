{
 "metadata": {
  "name": ""
 },
 "nbformat": 3,
 "nbformat_minor": 0,
 "worksheets": [
  {
   "cells": [
    {
     "cell_type": "heading",
     "level": 1,
     "metadata": {},
     "source": [
      "Tarefa(1/1) de Recupera\u00e7\u00e3o da informa\u00e7\u00e3o. "
     ]
    },
    {
     "cell_type": "heading",
     "level": 2,
     "metadata": {},
     "source": [
      "Aluno: Marcio Maciel Bastos"
     ]
    },
    {
     "cell_type": "raw",
     "metadata": {},
     "source": [
      "Primeiro importamos os pacotes para a realiza\u00e7\u00e3o da nossa tarefa"
     ]
    },
    {
     "cell_type": "code",
     "collapsed": false,
     "input": [
      "import nltk\n",
      "import numpy as np\n",
      "import matplotlib.pyplot as plt\n",
      "from nltk.corpus import machado\n",
      "from nltk.tokenize import WordPunctTokenizer\n",
      "from nltk.corpus import stopwords\n",
      "import string\n",
      "from collections import defaultdict\n",
      "from nltk.stem.snowball import PortugueseStemmer\n",
      "from nltk.stem import RSLPStemmer\n",
      "%matplotlib inline"
     ],
     "language": "python",
     "metadata": {},
     "outputs": [],
     "prompt_number": 59
    },
    {
     "cell_type": "raw",
     "metadata": {},
     "source": [
      "Baixamos o nosso \"set\" de \"stopwords\""
     ]
    },
    {
     "cell_type": "code",
     "collapsed": false,
     "input": [
      "nltk.download('stopwords')"
     ],
     "language": "python",
     "metadata": {},
     "outputs": [
      {
       "output_type": "stream",
       "stream": "stdout",
       "text": [
        "[nltk_data] Downloading package stopwords to /home/marcio/nltk_data...\n",
        "[nltk_data]   Package stopwords is already up-to-date!\n"
       ]
      },
      {
       "metadata": {},
       "output_type": "pyout",
       "prompt_number": 42,
       "text": [
        "True"
       ]
      }
     ],
     "prompt_number": 42
    },
    {
     "cell_type": "heading",
     "level": 4,
     "metadata": {},
     "source": [
      "Corpora a ser indexados: Obras completas de Machado de assis"
     ]
    },
    {
     "cell_type": "code",
     "collapsed": false,
     "input": [
      "textos = [machado.raw(id) for id in machado.fileids()]"
     ],
     "language": "python",
     "metadata": {},
     "outputs": [],
     "prompt_number": 65
    },
    {
     "cell_type": "raw",
     "metadata": {},
     "source": [
      "Carregando as stopwords"
     ]
    },
    {
     "cell_type": "code",
     "collapsed": false,
     "input": [
      "sw = stopwords.words('portuguese') + list (string.punctuation)"
     ],
     "language": "python",
     "metadata": {},
     "outputs": [],
     "prompt_number": 66
    },
    {
     "cell_type": "heading",
     "level": 4,
     "metadata": {},
     "source": [
      "Stemmers a serem comparados: - Snowball - RSLP"
     ]
    },
    {
     "cell_type": "raw",
     "metadata": {},
     "source": [
      "stemmer= Snowball e st=RSLP"
     ]
    },
    {
     "cell_type": "code",
     "collapsed": false,
     "input": [
      "stemmer = PortugueseStemmer()\n",
      "st = RSLPStemmer()"
     ],
     "language": "python",
     "metadata": {},
     "outputs": [],
     "prompt_number": 67
    },
    {
     "cell_type": "heading",
     "level": 3,
     "metadata": {},
     "source": [
      "Preparando os textos"
     ]
    },
    {
     "cell_type": "heading",
     "level": 4,
     "metadata": {},
     "source": [
      "Normalizando os textos com o Snowball"
     ]
    },
    {
     "cell_type": "code",
     "collapsed": false,
     "input": [
      "textos_limposS = []\n",
      "for texto in textos:\n",
      "    tlimpo = [stemmer.stem(token.lower()) for token in WordPunctTokenizer().tokenize(texto) if token not in sw]\n",
      "    textos_limposS.append(tlimpo)"
     ],
     "language": "python",
     "metadata": {},
     "outputs": [],
     "prompt_number": 68
    },
    {
     "cell_type": "heading",
     "level": 4,
     "metadata": {},
     "source": [
      "Normalizando os textos com o RSLPS"
     ]
    },
    {
     "cell_type": "code",
     "collapsed": false,
     "input": [
      "textos_limposR = []\n",
      "for texto in textos:\n",
      "    tlimpo = [st.stem(token.lower()) for token in WordPunctTokenizer().tokenize(texto) if token not in sw]\n",
      "    textos_limposR.append(tlimpo)"
     ],
     "language": "python",
     "metadata": {},
     "outputs": [],
     "prompt_number": 69
    },
    {
     "cell_type": "heading",
     "level": 4,
     "metadata": {},
     "source": [
      "Normalizando os textos sem stemmers"
     ]
    },
    {
     "cell_type": "raw",
     "metadata": {},
     "source": [
      "Esse procedimento \u00e9 importante para a cria\u00e7\u00e3o do nosso conjunto de documentos relevantes R"
     ]
    },
    {
     "cell_type": "code",
     "collapsed": false,
     "input": [
      "textos_cru = []\n",
      "for texto in textos:\n",
      "    tlimpo = [token.lower() for token in WordPunctTokenizer().tokenize(texto) if token not in sw]\n",
      "    textos_cru.append(tlimpo)"
     ],
     "language": "python",
     "metadata": {},
     "outputs": [],
     "prompt_number": 70
    },
    {
     "cell_type": "heading",
     "level": 3,
     "metadata": {},
     "source": [
      "Cria\u00e7\u00e3o dos \u00edndices invertidos"
     ]
    },
    {
     "cell_type": "heading",
     "level": 4,
     "metadata": {},
     "source": [
      "\u00cdndice para o dicion\u00e1rio usando Snowball"
     ]
    },
    {
     "cell_type": "code",
     "collapsed": false,
     "input": [
      "indiceS = defaultdict(lambda:set([]))\n",
      "for tid,t in enumerate(textos_limposS):\n",
      "    for term in t:\n",
      "        indiceS[term].add(tid)"
     ],
     "language": "python",
     "metadata": {},
     "outputs": [],
     "prompt_number": 71
    },
    {
     "cell_type": "heading",
     "level": 4,
     "metadata": {},
     "source": [
      "\u00cdndice para o dicion\u00e1rio usando RSPL"
     ]
    },
    {
     "cell_type": "code",
     "collapsed": false,
     "input": [
      "indiceR = defaultdict(lambda:set([]))\n",
      "for tid,t in enumerate(textos_limposR):\n",
      "    for term in t:\n",
      "        indiceR[term].add(tid)"
     ],
     "language": "python",
     "metadata": {},
     "outputs": [],
     "prompt_number": 72
    },
    {
     "cell_type": "heading",
     "level": 4,
     "metadata": {},
     "source": [
      "\u00cdndice com texto n\u00e3o \"stemezado\""
     ]
    },
    {
     "cell_type": "code",
     "collapsed": false,
     "input": [
      "indice_ref = defaultdict(lambda:set([]))\n",
      "for tid,t in enumerate(textos_cru):\n",
      "    for term in t:\n",
      "        indice_ref[term].add(tid)"
     ],
     "language": "python",
     "metadata": {},
     "outputs": [],
     "prompt_number": 73
    },
    {
     "cell_type": "heading",
     "level": 3,
     "metadata": {},
     "source": [
      "Fun\u00e7\u00f5es de busca"
     ]
    },
    {
     "cell_type": "code",
     "collapsed": false,
     "input": [
      "def buscaS(consulta):\n",
      "    return indiceS[stemmer.stem(u\"Sal\u00e1rio\")]\n",
      "\n",
      "def buscaR(consulta):\n",
      "    return indiceR[st.stem(consulta)]\n",
      "\n",
      "def busca_ref(consulta):\n",
      "    return indice_ref[consulta]"
     ],
     "language": "python",
     "metadata": {},
     "outputs": [],
     "prompt_number": 75
    },
    {
     "cell_type": "heading",
     "level": 3,
     "metadata": {},
     "source": [
      "Agora iremos calcular o recall, que \u00e9 definido por |R\u1d12A|/|R| e a precis\u00e3o, que \u00e9 definido por |R\u1d12A|/|A|"
     ]
    },
    {
     "cell_type": "code",
     "collapsed": false,
     "input": [
      "rSnow = np.empty(0)\n",
      "rRSLP = np.empty(0)\n",
      "pSnow=np.append(rSnow,Intrsct_Snow/len(list_Ref))\n",
      "pRSLP=np.append(rRSLP,Intrsct_RSLP/len(list_Ref))\n",
      "for txt in indice_ref.keys():\n",
      "    listS= buscaS(txt)\n",
      "    listR= buscaR(txt)\n",
      "    list_Ref= busca_ref(txt)\n",
      "    Intrsct_Snow =float(len(list_Ref.intersection(listS)))\n",
      "    Intrsct_RSLP =float(len(list_Ref.intersection(listR)))\n",
      "    rSnow=np.append(rSnow,Intrsct_Snow/len(list_Ref))\n",
      "    rRSLP=np.append(rRSLP,Intrsct_RSLP/len(list_Ref))\n",
      "    pSnow=np.append(pSnow,Intrsct_Snow/len(listS))\n",
      "    pRSLP=np.append(pRSLP,Intrsct_RSLP/len(listR))"
     ],
     "language": "python",
     "metadata": {},
     "outputs": [],
     "prompt_number": 85
    },
    {
     "cell_type": "raw",
     "metadata": {},
     "source": [
      "M\u00e9dias dos valores de Recall para cada termo normalizado"
     ]
    },
    {
     "cell_type": "code",
     "collapsed": false,
     "input": [
      "rSnow.mean()"
     ],
     "language": "python",
     "metadata": {},
     "outputs": [
      {
       "metadata": {},
       "output_type": "pyout",
       "prompt_number": 82,
       "text": [
        "0.21714023171722088"
       ]
      }
     ],
     "prompt_number": 82
    },
    {
     "cell_type": "code",
     "collapsed": false,
     "input": [
      "rRSLP.mean()"
     ],
     "language": "python",
     "metadata": {},
     "outputs": [
      {
       "metadata": {},
       "output_type": "pyout",
       "prompt_number": 83,
       "text": [
        "1.0"
       ]
      }
     ],
     "prompt_number": 83
    },
    {
     "cell_type": "raw",
     "metadata": {},
     "source": [
      "Gr\u00e1fico Boxplot dos valores de Recall para cada termo normalizado"
     ]
    },
    {
     "cell_type": "code",
     "collapsed": false,
     "input": [
      "plt.boxplot(rSnow)\n",
      "plt.show()"
     ],
     "language": "python",
     "metadata": {},
     "outputs": [
      {
       "metadata": {},
       "output_type": "display_data",
       "png": "[encoded data removed]",
       "text": [
        "<matplotlib.figure.Figure at 0x7f28bd4c7cd0>"
       ]
      }
     ],
     "prompt_number": 88
    },
    {
     "cell_type": "code",
     "collapsed": false,
     "input": [
      "n, bins, patches = plt.hist(rSnow, 50, normed=1, facecolor='g', alpha=0.75)\n",
      "plt.grid(True)\n",
      "plt.show()"
     ],
     "language": "python",
     "metadata": {},
     "outputs": [
      {
       "metadata": {},
       "output_type": "display_data",
       "png": "[encoded data removed]",
       "text": [
        "<matplotlib.figure.Figure at 0x7f28cb64bb90>"
       ]
      }
     ],
     "prompt_number": 99
    },
    {
     "cell_type": "code",
     "collapsed": false,
     "input": [
      "plt.boxplot(rRSLP)\n",
      "plt.show()"
     ],
     "language": "python",
     "metadata": {},
     "outputs": [
      {
       "metadata": {},
       "output_type": "display_data",
       "png": "[encoded data removed]",
       "text": [
        "<matplotlib.figure.Figure at 0x7f28bf40bc90>"
       ]
      }
     ],
     "prompt_number": 90
    },
    {
     "cell_type": "code",
     "collapsed": false,
     "input": [
      "n, bins, patches = plt.hist(rRSLP, 50, normed=1, facecolor='g', alpha=0.75)\n",
      "plt.grid(True)\n",
      "plt.show()"
     ],
     "language": "python",
     "metadata": {},
     "outputs": [
      {
       "metadata": {},
       "output_type": "display_data",
       "png": "[encoded data removed]",
       "text": [
        "<matplotlib.figure.Figure at 0x7f28cb677190>"
       ]
      }
     ],
     "prompt_number": 98
    },
    {
     "cell_type": "raw",
     "metadata": {},
     "source": [
      "Percebemos que o RSLP possui melhor Recall que o Snowball"
     ]
    },
    {
     "cell_type": "raw",
     "metadata": {},
     "source": [
      "M\u00e9dias dos valores de Precis\u00e3o para cada termo normalizado"
     ]
    },
    {
     "cell_type": "code",
     "collapsed": false,
     "input": [
      "pSnow.mean()"
     ],
     "language": "python",
     "metadata": {},
     "outputs": [
      {
       "metadata": {},
       "output_type": "pyout",
       "prompt_number": 86,
       "text": [
        "0.093972023671187926"
       ]
      }
     ],
     "prompt_number": 86
    },
    {
     "cell_type": "code",
     "collapsed": false,
     "input": [
      "pRSLP.mean()"
     ],
     "language": "python",
     "metadata": {},
     "outputs": [
      {
       "metadata": {},
       "output_type": "pyout",
       "prompt_number": 87,
       "text": [
        "0.39017071782818397"
       ]
      }
     ],
     "prompt_number": 87
    },
    {
     "cell_type": "raw",
     "metadata": {},
     "source": [
      "Gr\u00e1fico Boxplot dos valores de Precis\u00e3o para cada termo normalizado"
     ]
    },
    {
     "cell_type": "code",
     "collapsed": false,
     "input": [
      "plt.boxplot(pSnow)\n",
      "plt.show()"
     ],
     "language": "python",
     "metadata": {},
     "outputs": [
      {
       "metadata": {},
       "output_type": "display_data",
       "png": "[encoded data removed]",
       "text": [
        "<matplotlib.figure.Figure at 0x7f28bf7a76d0>"
       ]
      }
     ],
     "prompt_number": 94
    },
    {
     "cell_type": "code",
     "collapsed": false,
     "input": [
      "n, bins, patches = plt.hist(pSnow, 50, normed=1, facecolor='g', alpha=0.75)\n",
      "plt.grid(True)\n",
      "plt.show()"
     ],
     "language": "python",
     "metadata": {},
     "outputs": [
      {
       "metadata": {},
       "output_type": "display_data",
       "png": "[encoded data removed]",
       "text": [
        "<matplotlib.figure.Figure at 0x7f28d8085510>"
       ]
      }
     ],
     "prompt_number": 97
    },
    {
     "cell_type": "code",
     "collapsed": false,
     "input": [
      "plt.boxplot(pRSLP)\n",
      "plt.show()"
     ],
     "language": "python",
     "metadata": {},
     "outputs": [
      {
       "metadata": {},
       "output_type": "display_data",
       "png": "[encoded data removed]",
       "text": [
        "<matplotlib.figure.Figure at 0x7f28bf3f5390>"
       ]
      }
     ],
     "prompt_number": 95
    },
    {
     "cell_type": "code",
     "collapsed": false,
     "input": [
      "n, bins, patches = plt.hist(pRSLP, 50, normed=1, facecolor='g', alpha=0.75)\n",
      "plt.grid(True)\n",
      "plt.show()"
     ],
     "language": "python",
     "metadata": {},
     "outputs": [
      {
       "metadata": {},
       "output_type": "display_data",
       "png": "[encoded data removed]",
       "text": [
        "<matplotlib.figure.Figure at 0x7f28d8064490>"
       ]
      }
     ],
     "prompt_number": 96
    },
    {
     "cell_type": "raw",
     "metadata": {},
     "source": [
      "A Precis\u00e3o com o RSLP \u00e9 aproximadamente 30% maior que a do Snowball"
     ]
    }
   ],
   "metadata": {}
  }
 ]
}